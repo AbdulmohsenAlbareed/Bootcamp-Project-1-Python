{
 "cells": [
  {
   "cell_type": "markdown",
   "id": "2d9350db",
   "metadata": {},
   "source": [
    "\n",
    "<img src=\"YourDiet.png\" alt=\"Alt Text\" width=\"300\" height=\"200\">"
   ]
  },
  {
   "cell_type": "code",
   "execution_count": null,
   "id": "aba2c90f",
   "metadata": {},
   "outputs": [],
   "source": [
    "from datetime import datetime\n",
    "from tabulate import tabulate"
   ]
  },
  {
   "cell_type": "code",
   "execution_count": null,
   "id": "0fc9f7c4",
   "metadata": {},
   "outputs": [],
   "source": [
    "# dict with the info of the user (Name,Weight,Age,Gender,Activity_Factor)\n",
    "user={\n",
    "    'Name':'','Weight':0,'Height':0,'Age':0,'Gender':'','Activity_Factor':0,'BMI':'','Calories':''\n",
    "}"
   ]
  },
  {
   "cell_type": "code",
   "execution_count": null,
   "id": "e86e0bdb",
   "metadata": {},
   "outputs": [],
   "source": [
    "#dict of the Activity Factor names\n",
    "Activity_Factor_label={ 1:'Sedentary',2:'Lightly active',3:'Moderately active',4:'Very active',5:'Extra active'}"
   ]
  },
  {
   "cell_type": "code",
   "execution_count": null,
   "id": "412264dc",
   "metadata": {},
   "outputs": [],
   "source": [
    "def calculate_BMR():\n",
    "    BMR=0\n",
    "    if(user['Gender']=='Male'):\n",
    "        BMR=88.362 + (13.397 * user['Weight']) + (4.799 * user['Height']) - (5.677 *user['Age']) \n",
    "    else:\n",
    "        BMR=447.593 + (9.247 * user['Weight']) + (3.098 * user['Height']) - (4.330 *user['Age'])\n",
    "        \n",
    "    if Activity_Factor ==1:\n",
    "        BMR=BMR*1.2\n",
    "    elif Activity_Factor ==2:\n",
    "        BMR=BMR * 1.375\n",
    "    elif Activity_Factor ==3:\n",
    "        BMR=BMR*1.55\n",
    "    elif Activity_Factor ==4:\n",
    "        BMR=BMR*1.725\n",
    "    else:\n",
    "        BMR=BMR*1.9\n",
    "    user.update({'Calories':BMR})"
   ]
  },
  {
   "cell_type": "code",
   "execution_count": null,
   "id": "33e1fa07",
   "metadata": {},
   "outputs": [],
   "source": [
    "def calculate_BMI(weight,height):\n",
    "    height=height/100\n",
    "    BMI=weight/(height*height)\n",
    "    if BMI<18.5:\n",
    "        user['BMI']=\"Underweight\"\n",
    "    elif BMI>=18.5 and BMI<=24.9:\n",
    "        user['BMI']='Normal weight'\n",
    "    elif BMI>=25 and BMI<=29.9:\n",
    "        user['BMI']='Overweight'\n",
    "    elif BMI>=30 and BMI<=34.9:\n",
    "        user['BMI']='Obese'\n",
    "    else:\n",
    "        user['BMI']='Extremely obese'"
   ]
  },
  {
   "cell_type": "code",
   "execution_count": null,
   "id": "d5993133",
   "metadata": {},
   "outputs": [],
   "source": [
    "def sum_calories(list_calories):\n",
    "    total_sum_calories=0\n",
    "    for i in range(1,len(list_calories)):\n",
    "        total_sum_calories+=list_calories[i][1]\n",
    "    return total_sum_calories"
   ]
  },
  {
   "cell_type": "markdown",
   "id": "3e451c8d",
   "metadata": {},
   "source": [
    "## Enter Your information"
   ]
  },
  {
   "cell_type": "code",
   "execution_count": null,
   "id": "6c4edfb0",
   "metadata": {
    "scrolled": true
   },
   "outputs": [],
   "source": [
    "#input the User info\n",
    "Name=input(\"Enter your Name:\")\n",
    "user.update({'Name':Name})\n",
    "\n",
    "Weight=float(input(\"Enter your weight:\"))\n",
    "user.update({'Weight':Weight})\n",
    "\n",
    "Height=float(input(\"Enter your Height:\"))\n",
    "user.update({'Height':Height})\n",
    "\n",
    "calculate_BMI(user['Weight'],user['Height'])\n",
    "\n",
    "Age=int(input(\"Enter your Age:\"))\n",
    "user.update({'Age':Age})\n",
    "\n",
    "Gender=input(\"Enter your Gender(Male/Female):\")  \n",
    "user.update({'Gender':Gender})\n",
    "#If the gender that was entered is not male or female, ask the user again to re-enter.\n",
    "while Gender != 'Male' and Gender != 'Female':\n",
    "    Gender=input(\"Please Enter Male or Female:\")\n",
    "    user.update({'Gender':Gender})\n",
    "    \n",
    "print(\"\\n1.Sedentary (little to no exercise) \\n2.Lightly active (light exercise/sports 1-3 days/week) \\n3.Moderately active (moderate exercise/sports 3-5 days/week)\\n4.Very active (hard exercise/sports 6-7 days a week)\\n5.Extra active (very hard exercise/sports and physical job)\")\n",
    "Activity_Factor = int(input(\"Enter your Activity_Factor(1 for Sedentary , 2 .. ):\")  )\n",
    "user.update({'Activity_Factor':Activity_Factor})\n",
    "calculate_BMR()\n",
    "\n",
    "#If the activity factor that was entered ranges between 1 and 5, ask the user again to re-enter.\n",
    "while Activity_Factor not in range(1,6):\n",
    "    Activity_Factor=int(input(\"Enter your Activity_Factor Again:\"))\n",
    "    user.update({'Activity_Factor':Activity_Factor})"
   ]
  },
  {
   "cell_type": "markdown",
   "id": "4986007f",
   "metadata": {},
   "source": [
    "## Show your personal information"
   ]
  },
  {
   "cell_type": "code",
   "execution_count": null,
   "id": "d585568c",
   "metadata": {},
   "outputs": [],
   "source": [
    "#show the info of the user\n",
    "print('\\nYour information:')\n",
    "for info in user.items():\n",
    "    if info[0] == 'Activity_Factor':\n",
    "        print(info[0],': ',Activity_Factor_label[info[1]])\n",
    "    else:\n",
    "        print(info[0],': ',info[1])\n"
   ]
  },
  {
   "cell_type": "code",
   "execution_count": null,
   "id": "0a337a97",
   "metadata": {},
   "outputs": [],
   "source": [
    "#create daily calories table as list\n",
    "daily_calories = [['Meal Name','Calories Amount','Time'],['Total Amount of Calories',0,'']]"
   ]
  },
  {
   "cell_type": "markdown",
   "id": "ffa72c29",
   "metadata": {},
   "source": [
    "## Enter your meals"
   ]
  },
  {
   "cell_type": "code",
   "execution_count": null,
   "id": "3bbe1332",
   "metadata": {
    "scrolled": true
   },
   "outputs": [],
   "source": [
    "#After each record is entered,delete the last total number of calories and recalculate it.\n",
    "daily_calories.pop(-1)\n",
    "\n",
    "meal_name = input('Enter the meal name:')\n",
    "calories_amount= float(input('Enter the calories_amount:'))\n",
    "\n",
    "#Add new meal to the daily calories table\n",
    "add_meal=lambda meal_name,calories_amount : daily_calories.append([meal_name,calories_amount,datetime.now()]) \n",
    "add_meal(meal_name,calories_amount)\n",
    "\n",
    "#Add the new total number of calories.\n",
    "daily_calories.append(['Total Amount of Calories',sum_calories(daily_calories)])"
   ]
  },
  {
   "cell_type": "markdown",
   "id": "6b39bd25",
   "metadata": {},
   "source": [
    "## Show the total calories"
   ]
  },
  {
   "cell_type": "code",
   "execution_count": null,
   "id": "8289fe6d",
   "metadata": {},
   "outputs": [],
   "source": [
    "print(tabulate(daily_calories, headers=\"firstrow\", tablefmt=\"grid\"))"
   ]
  },
  {
   "cell_type": "code",
   "execution_count": null,
   "id": "d1ea33e4",
   "metadata": {},
   "outputs": [],
   "source": []
  }
 ],
 "metadata": {
  "kernelspec": {
   "display_name": "Python 3 (ipykernel)",
   "language": "python",
   "name": "python3"
  },
  "language_info": {
   "codemirror_mode": {
    "name": "ipython",
    "version": 3
   },
   "file_extension": ".py",
   "mimetype": "text/x-python",
   "name": "python",
   "nbconvert_exporter": "python",
   "pygments_lexer": "ipython3",
   "version": "3.10.9"
  }
 },
 "nbformat": 4,
 "nbformat_minor": 5
}
